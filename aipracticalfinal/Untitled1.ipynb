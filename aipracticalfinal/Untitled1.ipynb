{
 "cells": [
  {
   "cell_type": "code",
   "execution_count": 1,
   "id": "1926585f-19f9-42eb-a219-4da9a9cc05a8",
   "metadata": {},
   "outputs": [
    {
     "name": "stdout",
     "output_type": "stream",
     "text": [
      "Shortest path: [0, 1, 4]\n",
      "cost: 2\n"
     ]
    }
   ],
   "source": [
    "from collections import deque\n",
    "def bfs_with_costs(adjacency_mat,start,goal):\n",
    "    n=len(adjacency_mat)\n",
    "    cost = [float('inf')]*n\n",
    "    cost[start]=0\n",
    "    queue = deque([start])\n",
    "    predecessor= [-1]*n\n",
    "    while queue:\n",
    "        node=queue.popleft()\n",
    "        for neighbour in range(n):\n",
    "            if adjacency_mat[node][neighbour] >0:\n",
    "                new_cost = cost[node]+adjacency_mat[node][neighbour]\n",
    "\n",
    "                if  new_cost < cost[neighbour]:\n",
    "                    cost[neighbour] = new_cost\n",
    "                    predecessor[neighbour] = node\n",
    "                    queue.append(neighbour)\n",
    "    path=[]\n",
    "    current=goal\n",
    "    if cost[goal]==float('inf'):\n",
    "        return None, cost[goal]\n",
    "    while current!=-1:\n",
    "        path.append(current)\n",
    "        current=predecessor[current]\n",
    "    path.reverse()\n",
    "    return path,cost[goal]\n",
    "\n",
    "adjacency_mat=[[0,1,1,0,0],[1,0,1,1,1],[1,1,0,0,1],[0,1,0,0,1],[0,1,1,1,0]]\n",
    "start=0\n",
    "end=4\n",
    "path,cost=bfs_with_costs(adjacency_mat,start,end)\n",
    "\n",
    "if path:\n",
    "    print(\"Shortest path:\", path)\n",
    "    print(\"cost:\",cost)\n",
    "else:\n",
    "    print(\"error\")\n"
   ]
  }
 ],
 "metadata": {
  "kernelspec": {
   "display_name": "Python 3 (ipykernel)",
   "language": "python",
   "name": "python3"
  },
  "language_info": {
   "codemirror_mode": {
    "name": "ipython",
    "version": 3
   },
   "file_extension": ".py",
   "mimetype": "text/x-python",
   "name": "python",
   "nbconvert_exporter": "python",
   "pygments_lexer": "ipython3",
   "version": "3.12.4"
  }
 },
 "nbformat": 4,
 "nbformat_minor": 5
}
