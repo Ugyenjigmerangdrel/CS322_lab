{
 "cells": [
  {
   "cell_type": "code",
   "execution_count": 14,
   "id": "ca0964b9-0f02-4a2d-b23b-f86c349edf4f",
   "metadata": {},
   "outputs": [],
   "source": [
    "import random"
   ]
  },
  {
   "cell_type": "code",
   "execution_count": 10,
   "id": "82b759d1-dc89-4fc9-8263-cacd922a03bb",
   "metadata": {},
   "outputs": [
    {
     "data": {
      "text/plain": [
       "-3"
      ]
     },
     "execution_count": 10,
     "metadata": {},
     "output_type": "execute_result"
    }
   ],
   "source": [
    "random.randint(-4, -1)"
   ]
  },
  {
   "cell_type": "code",
   "execution_count": 2,
   "id": "506811d4-4912-4774-afa1-2526f8c0afc4",
   "metadata": {},
   "outputs": [],
   "source": [
    "class Node:\n",
    "    def __init__(self, val):\n",
    "        self.val = val\n",
    "        self.children = []\n",
    "\n",
    "    def add_children(self, child):\n",
    "        self.children.append(Node(child)\n",
    "        "
   ]
  },
  {
   "cell_type": "code",
   "execution_count": 15,
   "id": "18aa8333-9377-4c16-8ff6-8506491c87bd",
   "metadata": {},
   "outputs": [],
   "source": [
    "class Tree:\n",
    "    def __init__(self, depth, root):\n",
    "        self.depth = depth\n",
    "        self.root = root\n",
    "\n",
    "    def generate_children(self, node):\n",
    "        nc = random.randint(3, 5)\n",
    "        for s in range(nc):\n",
    "            node.add_children(random.randint(-5, 5))\n",
    "            \n",
    "    def generate_tree(self):\n",
    "        d = 0\n",
    "        if depth == 0:\n",
    "            return self.root\n",
    "        else:\n",
    "            root = self.root\n",
    "            \n",
    "            \n",
    "            for i in root.children:\n",
    "                while d <= depth:\n",
    "                    i.children\n",
    "                \n",
    "                "
   ]
  },
  {
   "cell_type": "code",
   "execution_count": 16,
   "id": "0cc2abe6-4d6c-4e85-9a4f-0964837c8f7f",
   "metadata": {},
   "outputs": [],
   "source": [
    "root = Node(5)\n",
    "\n",
    "tree = Tree(2, root)"
   ]
  },
  {
   "cell_type": "code",
   "execution_count": 17,
   "id": "a1f82ade-b831-40b5-916c-3517d6b05243",
   "metadata": {},
   "outputs": [
    {
     "name": "stdout",
     "output_type": "stream",
     "text": [
      "[4, -5, -4, -5]\n"
     ]
    }
   ],
   "source": [
    "tree.generate_tree()"
   ]
  }
 ],
 "metadata": {
  "kernelspec": {
   "display_name": "Python 3 (ipykernel)",
   "language": "python",
   "name": "python3"
  },
  "language_info": {
   "codemirror_mode": {
    "name": "ipython",
    "version": 3
   },
   "file_extension": ".py",
   "mimetype": "text/x-python",
   "name": "python",
   "nbconvert_exporter": "python",
   "pygments_lexer": "ipython3",
   "version": "3.12.3"
  }
 },
 "nbformat": 4,
 "nbformat_minor": 5
}
