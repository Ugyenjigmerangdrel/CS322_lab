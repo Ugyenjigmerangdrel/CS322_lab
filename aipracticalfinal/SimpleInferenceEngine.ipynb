{
 "cells": [
  {
   "cell_type": "code",
   "execution_count": 8,
   "id": "4068b5ad-945b-4184-b151-461e81f09b66",
   "metadata": {},
   "outputs": [
    {
     "name": "stdout",
     "output_type": "stream",
     "text": [
      "Step 0: A.B + B.C' + A.C (Rule Applied: Initial Expression)\n",
      "Step 1: B.A + B.C' + A.C (Rule Applied: Commutative Law: A.B = B.A)\n",
      "Step 2: B.B + A.C' + A.C (Rule Applied: Commutative Law: A + B = B + A)\n"
     ]
    }
   ],
   "source": [
    "import re\n",
    "\n",
    "class InferenceEngine:\n",
    "    def __init__(self, rules):\n",
    "        self.rules = rules\n",
    "\n",
    "    def apply_rule(self, expression, rule, replacement):\n",
    "        return re.sub(rule, replacement, expression)\n",
    "\n",
    "    def run_inference(self, expression):\n",
    "        transformed = expression\n",
    "        steps = [(transformed, \"Initial Expression\")]\n",
    "\n",
    "        while True:\n",
    "            for rule, replacement, rule_name in self.rules:\n",
    "                new_transformed = self.apply_rule(transformed, rule, replacement)\n",
    "                if new_transformed != transformed:\n",
    "                    transformed = new_transformed\n",
    "                    steps.append((transformed, rule_name))\n",
    "                    break\n",
    "            else:\n",
    "                break\n",
    "\n",
    "        return steps\n",
    "rules = [\n",
    "    (r'\\(A\\.B\\)\\'', \"A' + B'\", \"De Morgan\"),  # De Morgan\n",
    "    (r'\\(A \\+ B\\)\\'', \"A' . B'\", \"De Morgan\"),  # De Morgan\n",
    "    (r'A\\.0', '0', \"A.0 = 0\"),  # A.0 = 0\n",
    "    (r'A \\+ 1', '1', \"A + 1 = 1\"),  # A + 1 = 1\n",
    "    (r'A\\.1', 'A', \"A.1 = A\"),  # A.1 = A\n",
    "    (r'A \\+ 0', 'A', \"A + 0 = A\"),  # A + 0 = A\n",
    "    (r'A \\+ A', 'A', \"Idempotent Law: A + A = A\"),  # Idempotent Law: A + A = A\n",
    "    (r'A\\.A', 'A', \"Idempotent Law: A.A = A\"),  # Idempotent Law: A.A = A\n",
    "    (r'A \\+ A\\'', '1', \"Complement Law: A + A' = 1\"),  # Complement Law: A + A' = 1\n",
    "    (r'A\\.A\\'', '0', \"Complement Law: A.A' = 0\"),  # Complement Law: A.A' = 0\n",
    "    (r'\\(\\(A\\)\\'\\)\\'', 'A', \"Double Negation: ((A)')' = A\"),  # Double Negation: ((A)')' = A\n",
    "    (r'A \\+ B', 'B + A', \"Commutative Law: A + B = B + A\"),  # Commutative Law: A + B = B + A\n",
    "    (r'A\\.B', 'B.A', \"Commutative Law: A.B = B.A\"),  # Commutative Law: A.B = B.A\n",
    "    (r'A \\+ \\(B \\+ C\\)', '(A + B) + C', \"Associative Law: A+(B+C) = (A+B)+C\"),  # Associative Law: A+(B+C) = (A+B)+C\n",
    "    (r'A\\.\\(B\\.C\\)', '(A.B).C', \"Associative Law: A.(B.C) = (A.B).C\"),  # Associative Law: A.(B.C) = (A.B).C\n",
    "    (r'A\\.\\(B \\+ C\\)', '(A.B) + (A.C)', \"Distributive Law: A.(B+C) = (A.B)+(A.C)\"),  # Distributive Law: A.(B+C) = (A.B)+(A.C)\n",
    "    (r'A\\.\\(A \\+ B\\)', 'A', \"Absorption Law: A.(A+B) = A\"),  # Absorption Law: A.(A+B) = A\n",
    "    (r'A \\+ A\\.B', 'A', \"Absorption Law: A + A.B = A\"),  # Absorption Law: A + A.B = A\n",
    "    (r'A \\+ A\\'\\.B', 'A + B', \"Absorption Law: A + A'.B = A + B\"),  # Absorption Law: A + A'.B = A + B\n",
    "    (r'A\\.\\(A\\' \\+ B\\)', 'A.B', \"Absorption Law: A.(A' + B) = A.B\")  # Absorption Law: A.(A' + B) = A.B\n",
    "]\n",
    "\n",
    "inference_engine = InferenceEngine(rules)\n",
    "initial_expression = 'A.B + B.C\\' + A.C'\n",
    "\n",
    "steps = inference_engine.run_inference(initial_expression)\n",
    "\n",
    "for i, (step, rule_name) in enumerate(steps):\n",
    "    print(f\"Step {i}: {step} (Rule Applied: {rule_name})\")"
   ]
  }
 ],
 "metadata": {
  "kernelspec": {
   "display_name": "Python 3 (ipykernel)",
   "language": "python",
   "name": "python3"
  },
  "language_info": {
   "codemirror_mode": {
    "name": "ipython",
    "version": 3
   },
   "file_extension": ".py",
   "mimetype": "text/x-python",
   "name": "python",
   "nbconvert_exporter": "python",
   "pygments_lexer": "ipython3",
   "version": "3.12.4"
  }
 },
 "nbformat": 4,
 "nbformat_minor": 5
}
