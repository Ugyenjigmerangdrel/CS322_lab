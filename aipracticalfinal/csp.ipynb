{
 "cells": [
  {
   "cell_type": "code",
   "execution_count": 2,
   "id": "f953d501-cd7f-4499-83fe-fb2592c44fa0",
   "metadata": {},
   "outputs": [
    {
     "name": "stdin",
     "output_type": "stream",
     "text": [
      "Enter the number of variables you want to have: 2\n",
      "Enter the name of variable A\n",
      "Enter the domain of the variable example 1 2 3 or 3 4 5 1 2 3 4 5\n",
      "Enter the name of variable B\n",
      "Enter the domain of the variable example 1 2 3 or 3 4 5 8 9 10 23 122\n"
     ]
    }
   ],
   "source": [
    "N_V = int(input(\"Enter the number of variables you want to have:\"))\n",
    "var_domain = {}\n",
    "for i in range(N_V):\n",
    "    varname = input(\"Enter the name of variable\")\n",
    "    domain = input(\"Enter the domain of the variable example 1 2 3 or 3 4 5\")\n",
    "    var_domain[varname] = domain    "
   ]
  },
  {
   "cell_type": "code",
   "execution_count": 3,
   "id": "ffe38f5b-7d69-45d4-87ce-10f9c9b0c701",
   "metadata": {},
   "outputs": [
    {
     "name": "stdout",
     "output_type": "stream",
     "text": [
      "Variable Domain {'A': '1 2 3 4 5', 'B': '8 9 10 23 122'}\n"
     ]
    }
   ],
   "source": [
    "print(\"Variable Domain\",var_domain)\n"
   ]
  },
  {
   "cell_type": "code",
   "execution_count": 4,
   "id": "58af8fc4-f26b-43cb-bfa4-e14be8990f9c",
   "metadata": {},
   "outputs": [
    {
     "name": "stdin",
     "output_type": "stream",
     "text": [
      "Enter the number of uninary constraint you want: 2\n",
      "Enter you uninary constraint x < 5: A < 5\n",
      "Enter you uninary constraint x < 5: B > 9\n"
     ]
    }
   ],
   "source": [
    "N_UC = int(input(\"Enter the number of uninary constraint you want:\"))\n",
    "uni_const = []\n",
    "for i in range(N_UC):\n",
    "    uc = input(\"Enter you uninary constraint x < 5:\")\n",
    "    uni_const.append(uc)"
   ]
  },
  {
   "cell_type": "code",
   "execution_count": 5,
   "id": "40e520bd-f786-4d3d-a207-a42f11729b29",
   "metadata": {},
   "outputs": [
    {
     "data": {
      "text/plain": [
       "['A < 5', 'B > 9']"
      ]
     },
     "execution_count": 5,
     "metadata": {},
     "output_type": "execute_result"
    }
   ],
   "source": [
    "uni_const"
   ]
  },
  {
   "cell_type": "code",
   "execution_count": 10,
   "id": "d6648a87-9935-4f6b-a2b5-7668c3e0e8bd",
   "metadata": {},
   "outputs": [
    {
     "name": "stdin",
     "output_type": "stream",
     "text": [
      "Enter the numve of binary constraint you want to have 1\n",
      "Enter the binary constraint B > A + 10\n"
     ]
    }
   ],
   "source": [
    "N_BC = int(input(\"Enter the numve of binary constraint you want to have\"))\n",
    "binary_const = []\n",
    "for i in range(N_BC):\n",
    "    bc = input(\"Enter the binary constraint\")\n",
    "    binary_const.append(bc)"
   ]
  },
  {
   "cell_type": "code",
   "execution_count": 9,
   "id": "b1eeb458-dcd5-4b24-8df7-e7a6ca2a168a",
   "metadata": {},
   "outputs": [
    {
     "name": "stdout",
     "output_type": "stream",
     "text": [
      "Original Domain {'A': '1 2 3 4 5', 'B': '8 9 10 23 122'}\n",
      "Unary, Constraint ['A < 5', 'B > 9']\n",
      "New Domain {'A': [1, 2, 3, 4], 'B': [10, 23, 122]}\n"
     ]
    }
   ],
   "source": [
    "def apply_uc(uni_const, var_domain):\n",
    "    adjusted_domain = {}\n",
    "    for i in uni_const:\n",
    "        data = i.split(\" \")\n",
    "        var_dom = var_domain.get(data[0]).split(\" \")\n",
    "        d = []\n",
    "        for j in var_dom:\n",
    "            # print(j)\n",
    "            if data[1] == '>':\n",
    "                if int(j) > int(data[2]):\n",
    "                    d.append(int(j))\n",
    "            \n",
    "            elif data[1] == '<':\n",
    "                if int(j) < int(data[2]):\n",
    "                    d.append(int(j))\n",
    "\n",
    "            elif data[1] == '=':\n",
    "                if int(j) == int(data[2]):\n",
    "                    d.append(int(j))\n",
    "        adjusted_domain[data[0]] = d\n",
    "    return adjusted_domain\n",
    "\n",
    "new_domain = apply_uc(uni_const, var_domain)\n",
    "\n",
    "print(\"Original Domain\", var_domain)\n",
    "print(\"Unary, Constraint\", uni_const)\n",
    "\n",
    "print(\"New Domain\",new_domain)"
   ]
  },
  {
   "cell_type": "code",
   "execution_count": 69,
   "id": "68712a2e-33cc-4adf-9665-1ba974599ec8",
   "metadata": {},
   "outputs": [
    {
     "data": {
      "text/plain": [
       "['B > A + 3']"
      ]
     },
     "execution_count": 69,
     "metadata": {},
     "output_type": "execute_result"
    }
   ],
   "source": [
    "binary_const"
   ]
  },
  {
   "cell_type": "code",
   "execution_count": 11,
   "id": "ec8f6ff1-acd9-40a5-921f-f872af769876",
   "metadata": {},
   "outputs": [
    {
     "name": "stdout",
     "output_type": "stream",
     "text": [
      "('A', '1 2 3 4 5') ---- A < 5 -----> ('A', [1, 2, 3, 4])\n",
      "('B', '8 9 10 23 122') ---- B > 9 -----> ('B', [10, 23, 122])\n"
     ]
    }
   ],
   "source": [
    "def apply_bc(binary_const, new_domain):\n",
    "    new_adjusted_domain = {}\n",
    "    for i in binary_const:\n",
    "        data = i.split(' ')\n",
    "        var1 = new_domain.get(data[0])\n",
    "        var2 = new_domain.get(data[2])\n",
    "        d = []\n",
    "        for j in var1:\n",
    "            validity = []\n",
    "            for k in var2:\n",
    "                k_val = perform_ao(data[3], int(k), int(data[4]))\n",
    "                # print(j, k_val)\n",
    "                if data[1] == '>':\n",
    "                    if int(j) > k_val:\n",
    "                        validity.append(True)\n",
    "                    else:\n",
    "                        validity.append(False)\n",
    "                \n",
    "                elif data[1] == '<':\n",
    "                    if int(j) < k_val:\n",
    "                        validity.append(True)\n",
    "                    else:\n",
    "                        validity.append(False)\n",
    "    \n",
    "                elif data[1] == '=':\n",
    "                    if int(j) == k_val:\n",
    "                        validity.append(True)\n",
    "                    else:\n",
    "                        validity.append(False)\n",
    "            if False not in validity:\n",
    "                d.append(int(j))\n",
    "        new_adjusted_domain[str(data[0])] = d\n",
    "                \n",
    "    return new_adjusted_domain\n",
    "def perform_ao(operator, var, const):\n",
    "    result = 0\n",
    "    if operator == '+':\n",
    "        result = var + const\n",
    "    elif operator == '-':\n",
    "        result = var - const\n",
    "    elif operator == '*':\n",
    "        result = var * const\n",
    "    elif operator == \"/\":\n",
    "        result = var / const\n",
    "    return result\n",
    "\n",
    "binary_adjusted_domain = apply_bc(binary_const, new_domain)\n",
    "\n",
    "for i in range(len(var_domain)):\n",
    "    print(list(var_domain.items())[i], '----', uni_const[i], '----->', list(new_domain.items())[i])"
   ]
  },
  {
   "cell_type": "code",
   "execution_count": 90,
   "id": "ae18ecf8-b6ab-41bf-98d3-a40ff6ede3fe",
   "metadata": {},
   "outputs": [
    {
     "data": {
      "text/plain": [
       "{'B': [8, 9]}"
      ]
     },
     "execution_count": 90,
     "metadata": {},
     "output_type": "execute_result"
    }
   ],
   "source": [
    "binary_adjusted_domain"
   ]
  }
 ],
 "metadata": {
  "kernelspec": {
   "display_name": "Python 3 (ipykernel)",
   "language": "python",
   "name": "python3"
  },
  "language_info": {
   "codemirror_mode": {
    "name": "ipython",
    "version": 3
   },
   "file_extension": ".py",
   "mimetype": "text/x-python",
   "name": "python",
   "nbconvert_exporter": "python",
   "pygments_lexer": "ipython3",
   "version": "3.12.4"
  }
 },
 "nbformat": 4,
 "nbformat_minor": 5
}
