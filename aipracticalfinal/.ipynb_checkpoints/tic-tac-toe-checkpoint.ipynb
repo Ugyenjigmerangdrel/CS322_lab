{
 "cells": [
  {
   "cell_type": "code",
   "execution_count": 4,
   "id": "ecea378f-889a-4f45-9e69-48d2a271c0fa",
   "metadata": {},
   "outputs": [
    {
     "name": "stdout",
     "output_type": "stream",
     "text": [
      "(0, 0)\n"
     ]
    }
   ],
   "source": [
    "def dominance(arr):\n",
    "    arr = list(arr)\n",
    "    x = arr.count('x')\n",
    "    o = arr.count('o')\n",
    "\n",
    "    if x > 0 and o == 0:\n",
    "        if x == 3:\n",
    "            return 100, 0\n",
    "        return x, 0\n",
    "    elif x == 0 and o > 0:\n",
    "        if o == 3:\n",
    "            return 0, 100\n",
    "        return 0, o\n",
    "    else:\n",
    "        return 0, 0\n",
    "\n",
    "arr = ['x', 'o', 'x']\n",
    "\n",
    "print(dominance(arr))\n"
   ]
  },
  {
   "cell_type": "code",
   "execution_count": null,
   "id": "a173de42-de6c-4d57-b26b-e8d1214d7f5b",
   "metadata": {},
   "outputs": [],
   "source": []
  },
  {
   "cell_type": "code",
   "execution_count": 12,
   "id": "5ae32d71-a2ad-46ad-b3bf-8935a70ba3b7",
   "metadata": {},
   "outputs": [],
   "source": [
    "def strength(board):\n",
    "    x_strength = 0\n",
    "    o_strength = 0\n",
    "    #row operations\n",
    "    for i in range(len(board)):\n",
    "        xc, oc = dominance(board[i, 0:3])\n",
    "        x_strength += xc\n",
    "        o_strength += oc\n",
    "    for j in range(len(board)):\n",
    "        xc, oc = dominance(board[0:3, j])\n",
    "        x_strength += xc\n",
    "        o_strength += oc\n",
    "    #diagonal 1\n",
    "    diagonal1 = [board[0,0], board[1,1], board[2,2]]\n",
    "    xc,oc = dominance(diagonal1)\n",
    "    x_strength += xc\n",
    "    o_strength += oc\n",
    "    #diagonal 2\n",
    "    diagonal2 = [board[0,2], board[1,1], board[2,0]]\n",
    "    xc, oc = dominance(diagonal2)\n",
    "    x_strength += xc\n",
    "    o_strength += oc\n",
    "\n",
    "    x_strength = 100 if x_strength >= 100 else x_strength\n",
    "        \n",
    "    if o_strength >= 100:\n",
    "        o_strength = 100\n",
    "\n",
    "    return x_strength-o_strength, o_strength-x_strength\n",
    "            "
   ]
  },
  {
   "cell_type": "code",
   "execution_count": 9,
   "id": "143213f9-c0b9-42f1-abdb-b0aaf795421b",
   "metadata": {},
   "outputs": [
    {
     "name": "stdout",
     "output_type": "stream",
     "text": [
      "Requirement already satisfied: numpy in c:\\users\\ugyen\\appdata\\local\\programs\\python\\python312\\lib\\site-packages (2.1.0)\n"
     ]
    }
   ],
   "source": [
    "!pip install numpy"
   ]
  },
  {
   "cell_type": "code",
   "execution_count": 8,
   "id": "95f4ce4c-8977-4ef0-a6a9-5abb9d619190",
   "metadata": {},
   "outputs": [
    {
     "name": "stdout",
     "output_type": "stream",
     "text": [
      "Input Board:\n",
      "[['x' 'b' 'o']\n",
      " ['o' 'b' 'o']\n",
      " ['x' 'b' 'o']]\n",
      "(-100, 100)\n"
     ]
    }
   ],
   "source": [
    "import numpy as np\n",
    "\n",
    "board = np.array([['x','b','o'],['o','b','o'],['x','b','o']])\n",
    "\n",
    "print(\"Input Board:\")\n",
    "print(board)\n",
    "print(strength(board))"
   ]
  }
 ],
 "metadata": {
  "kernelspec": {
   "display_name": "Python 3 (ipykernel)",
   "language": "python",
   "name": "python3"
  },
  "language_info": {
   "codemirror_mode": {
    "name": "ipython",
    "version": 3
   },
   "file_extension": ".py",
   "mimetype": "text/x-python",
   "name": "python",
   "nbconvert_exporter": "python",
   "pygments_lexer": "ipython3",
   "version": "3.12.5"
  }
 },
 "nbformat": 4,
 "nbformat_minor": 5
}
