{
 "cells": [
  {
   "cell_type": "code",
   "execution_count": 21,
   "id": "9d177c41-415e-4a37-9baa-4cc59dd54765",
   "metadata": {},
   "outputs": [
    {
     "name": "stdout",
     "output_type": "stream",
     "text": [
      "Best Profit: 220\n",
      "Best Solution: [0, 1, 1]\n"
     ]
    }
   ],
   "source": [
    "\n",
    "\n",
    "def fractional_knapsack(profits, weights, capacity):\n",
    "    ratios = [(p / w, p, w) for p, w in zip(profits, weights)]\n",
    "    ratios.sort(reverse=True)\n",
    "    total_profit = 0.0\n",
    "    for ratio, p_i, w_i in ratios:\n",
    "        if capacity >= w_i:\n",
    "            capacity -= w_i\n",
    "            total_profit += p_i\n",
    "        else:\n",
    "            total_profit += ratio * capacity\n",
    "            break\n",
    "    return total_profit\n",
    "\n",
    "def knapsack_astar(d, current_weight, current_profit):\n",
    "    global current_best_profit, current_best_solution\n",
    "    if current_weight > W:\n",
    "        return\n",
    "    remaining_capacity = W - current_weight\n",
    "    # Remaining items\n",
    "    remaining_items = [(p[i], w[i]) for i in range(d, N) if S[i] == -1]\n",
    "    if remaining_items:\n",
    "        est_profit = current_profit + fractional_knapsack(\n",
    "            [item[0] for item in remaining_items],\n",
    "            [item[1] for item in remaining_items],\n",
    "            remaining_capacity\n",
    "        )\n",
    "        if est_profit <= current_best_profit:\n",
    "            return\n",
    "    else:\n",
    "        est_profit = current_profit\n",
    "    if est_profit <= current_best_profit:\n",
    "        return\n",
    "    if d == N:\n",
    "        if current_profit > current_best_profit:\n",
    "            current_best_profit = current_profit\n",
    "            current_best_solution = S.copy()\n",
    "        return\n",
    "    # Include item d\n",
    "    S[d] = 1\n",
    "    knapsack_astar(d + 1, current_weight + w[d], current_profit + p[d])\n",
    "    # Exclude item d\n",
    "    S[d] = 0\n",
    "    knapsack_astar(d + 1, current_weight, current_profit)\n",
    "    # Backtrack\n",
    "    S[d] = -1\n",
    "\n",
    "# Sample profits and weights\n",
    "p = [60, 100, 120]\n",
    "w = [10, 20, 30]\n",
    "W = 50  # Knapsack capacity\n",
    "N = len(p)\n",
    "\n",
    "# Initialize variables\n",
    "S = [-1] * N\n",
    "current_best_profit = float('-inf')\n",
    "current_best_solution = None\n",
    "# Start the search\n",
    "knapsack_astar(0, 0, 0)\n",
    "\n",
    "print(\"Best Profit:\", current_best_profit)\n",
    "print(\"Best Solution:\", current_best_solution)\n"
   ]
  }
 ],
 "metadata": {
  "kernelspec": {
   "display_name": "Python 3 (ipykernel)",
   "language": "python",
   "name": "python3"
  },
  "language_info": {
   "codemirror_mode": {
    "name": "ipython",
    "version": 3
   },
   "file_extension": ".py",
   "mimetype": "text/x-python",
   "name": "python",
   "nbconvert_exporter": "python",
   "pygments_lexer": "ipython3",
   "version": "3.12.4"
  }
 },
 "nbformat": 4,
 "nbformat_minor": 5
}
