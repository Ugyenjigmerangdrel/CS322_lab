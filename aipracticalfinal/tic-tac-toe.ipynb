{
 "cells": [
  {
   "cell_type": "code",
   "execution_count": 1,
   "id": "c8cabf91-1a08-49a7-8f41-62944e732992",
   "metadata": {},
   "outputs": [
    {
     "name": "stdout",
     "output_type": "stream",
     "text": [
      "Input Board:\n",
      "[['x' 'b' 'o']\n",
      " ['o' 'b' 'o']\n",
      " ['x' 'b' 'o']]\n",
      "(-100, 100)\n"
     ]
    }
   ],
   "source": [
    "import numpy as np\n",
    "def dominance(arr):\n",
    "    arr = list(arr)\n",
    "    x = arr.count('x')\n",
    "    o = arr.count('o')\n",
    "\n",
    "    if x > 0 and o == 0:\n",
    "        if x == 3:\n",
    "            return 100, 0\n",
    "        return x, 0\n",
    "    elif x == 0 and o > 0:\n",
    "        if o == 3:\n",
    "            return 0, 100\n",
    "        return 0, o\n",
    "    else:\n",
    "        return 0, 0\n",
    "\n",
    "def strength(board):\n",
    "    x_strength = 0\n",
    "    o_strength = 0\n",
    "    #row operations\n",
    "    for i in range(len(board)):\n",
    "        xc, oc = dominance(board[i, 0:3])\n",
    "        x_strength += xc\n",
    "        o_strength += oc\n",
    "    for j in range(len(board)):\n",
    "        xc, oc = dominance(board[0:3, j])\n",
    "        x_strength += xc\n",
    "        o_strength += oc\n",
    "    #diagonal 1\n",
    "    diagonal1 = [board[0,0], board[1,1], board[2,2]]\n",
    "    xc,oc = dominance(diagonal1)\n",
    "    x_strength += xc\n",
    "    o_strength += oc\n",
    "    #diagonal 2\n",
    "    diagonal2 = [board[0,2], board[1,1], board[2,0]]\n",
    "    xc, oc = dominance(diagonal2)\n",
    "    x_strength += xc\n",
    "    o_strength += oc\n",
    "\n",
    "    x_strength = 100 if x_strength >= 100 else x_strength\n",
    "        \n",
    "    if o_strength >= 100:\n",
    "        o_strength = 100\n",
    "\n",
    "    return x_strength-o_strength, o_strength-x_strength\n",
    "            \n",
    "\n",
    "board = np.array([['x','b','o'],['o','b','o'],['x','b','o']])\n",
    "\n",
    "print(\"Input Board:\")\n",
    "print(board)\n",
    "print(strength(board))"
   ]
  }
 ],
 "metadata": {
  "kernelspec": {
   "display_name": "Python 3 (ipykernel)",
   "language": "python",
   "name": "python3"
  },
  "language_info": {
   "codemirror_mode": {
    "name": "ipython",
    "version": 3
   },
   "file_extension": ".py",
   "mimetype": "text/x-python",
   "name": "python",
   "nbconvert_exporter": "python",
   "pygments_lexer": "ipython3",
   "version": "3.12.4"
  }
 },
 "nbformat": 4,
 "nbformat_minor": 5
}
