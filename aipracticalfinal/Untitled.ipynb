{
 "cells": [
  {
   "cell_type": "code",
   "execution_count": 2,
   "id": "ef98bb18-4bd4-4ab2-9978-a66a174b8da4",
   "metadata": {},
   "outputs": [
    {
     "name": "stdout",
     "output_type": "stream",
     "text": [
      "New goals to satisfy: {'A AND B'}\n",
      "Sub-goal A satisfied.\n",
      "Inference complete- Goal is satisfied.\n"
     ]
    }
   ],
   "source": [
    "def parse_rule(rule):\n",
    "\n",
    "    if \"IF\" in rule and \"THEN\" in rule:\n",
    "        parts = rule.split(\" THEN \")\n",
    "        condition = parts[0].replace(\"IF \", \"\").strip()\n",
    "        consequent = parts[1].strip()\n",
    "        return condition, consequent\n",
    "    return None, None\n",
    "\n",
    "def evaluate_condition(condition, facts):\n",
    "\n",
    "    condition = condition.replace(\"AND\", \"and\").replace(\"OR\", \"or\").replace(\"NOT\", \"not\")\n",
    "    for fact, value in facts.items():\n",
    "        condition = condition.replace(fact, str(value))\n",
    "    try:\n",
    "        return eval(condition)\n",
    "    except:\n",
    "        return False\n",
    "\n",
    "def modus_tollens(rules, goal, facts):\n",
    "\n",
    "    additional_goals = set()\n",
    "    for rule in rules:\n",
    "        condition, consequent = parse_rule(rule)\n",
    "        if consequent == goal:\n",
    "            if evaluate_condition(condition, facts):\n",
    "                print(f\"Goal {goal} is satisfied using rule: {rule}\")\n",
    "                return True\n",
    "            else:\n",
    "                additional_goals.add(condition)\n",
    "    \n",
    "    if not additional_goals:\n",
    "        print(f\"Goal {goal} cannot be satisfied.\")\n",
    "        return False\n",
    "\n",
    "    print(f\"New goals to satisfy: {additional_goals}\")\n",
    "    for new_goal in additional_goals:\n",
    "        sub_goal_vars = [var for var in facts.keys() if var in new_goal]\n",
    "        for var in sub_goal_vars:\n",
    "            if facts[var]:\n",
    "                print(f\"Sub-goal {var} satisfied.\")\n",
    "                return True\n",
    "        print(f\"Sub-goal {new_goal} cannot be directly satisfied. Further evaluation needed.\")\n",
    "    return False\n",
    "\n",
    "\n",
    "variables = ['A', 'B', 'C', 'D']\n",
    "rules = [\n",
    "    \"IF A AND B THEN C\",\n",
    "    \"IF C OR NOT D THEN B\",\n",
    "    \"IF A AND NOT C THEN D\",\n",
    "    \"IF D THEN A\",\n",
    "    \"IF B AND C THEN D\"\n",
    "]\n",
    "facts = {\"A\": True, \"B\": False, \"C\": False, \"D\": True}\n",
    "goal = \"C\"\n",
    "\n",
    "if modus_tollens(rules, goal, facts):\n",
    "    print(\"Inference complete- Goal is satisfied.\")\n",
    "else:\n",
    "    print(\"Inference complete- Goal cannot be satisfied.\")\n"
   ]
  }
 ],
 "metadata": {
  "kernelspec": {
   "display_name": "Python 3 (ipykernel)",
   "language": "python",
   "name": "python3"
  },
  "language_info": {
   "codemirror_mode": {
    "name": "ipython",
    "version": 3
   },
   "file_extension": ".py",
   "mimetype": "text/x-python",
   "name": "python",
   "nbconvert_exporter": "python",
   "pygments_lexer": "ipython3",
   "version": "3.12.4"
  }
 },
 "nbformat": 4,
 "nbformat_minor": 5
}
