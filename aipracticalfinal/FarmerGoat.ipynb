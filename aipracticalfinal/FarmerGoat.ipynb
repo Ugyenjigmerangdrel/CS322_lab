{
 "cells": [
  {
   "cell_type": "code",
   "execution_count": 3,
   "id": "2f08713d-46a6-48b3-9fb9-1b49e641881d",
   "metadata": {},
   "outputs": [
    {
     "name": "stdout",
     "output_type": "stream",
     "text": [
      "Goal reached!\n",
      "Farmer takes Goat\n",
      "Farmer moves alone\n",
      "Farmer takes Wolf\n",
      "Farmer takes Goat\n",
      "Farmer takes Cabbage\n",
      "Farmer moves alone\n",
      "Farmer takes Goat\n"
     ]
    }
   ],
   "source": [
    "from collections import deque\n",
    "\n",
    "def is_valid_state(state):\n",
    "    F, W, G, C = state\n",
    "    if F != W and W == G:\n",
    "        return False\n",
    "    if F != G and G == C:\n",
    "        return False\n",
    "    return True\n",
    "\n",
    "def get_possible_moves(state):\n",
    "    F, W, G, C = state\n",
    "    moves = []\n",
    "    positions = ['L', 'R']\n",
    "    current_bank = F\n",
    "    opposite_bank = 'R' if F == 'L' else 'L'\n",
    "    \n",
    "    # Farmer moves alone\n",
    "    new_state = (opposite_bank, W, G, C)\n",
    "    if is_valid_state(new_state):\n",
    "        moves.append((new_state, 'Farmer moves alone'))\n",
    "    \n",
    "    # Farmer takes Wolf\n",
    "    if W == current_bank:\n",
    "        new_state = (opposite_bank, opposite_bank, G, C)\n",
    "        if is_valid_state(new_state):\n",
    "            moves.append((new_state, 'Farmer takes Wolf'))\n",
    "    \n",
    "    # Farmer takes Goat\n",
    "    if G == current_bank:\n",
    "        new_state = (opposite_bank, W, opposite_bank, C)\n",
    "        if is_valid_state(new_state):\n",
    "            moves.append((new_state, 'Farmer takes Goat'))\n",
    "    \n",
    "    # Farmer takes Cabbage\n",
    "    if C == current_bank:\n",
    "        new_state = (opposite_bank, W, G, opposite_bank)\n",
    "        if is_valid_state(new_state):\n",
    "            moves.append((new_state, 'Farmer takes Cabbage'))\n",
    "    \n",
    "    return moves\n",
    "\n",
    "def solve_puzzle():\n",
    "    initial_state = ('L', 'L', 'L', 'L')  # All on the left bank\n",
    "    goal_state = ('R', 'R', 'R', 'R')     # All on the right bank\n",
    "    visited = set()\n",
    "    queue = deque()\n",
    "    queue.append((initial_state, []))  # State and path\n",
    "    visited.add(initial_state)\n",
    "    \n",
    "    while queue:\n",
    "        current_state, path = queue.popleft()\n",
    "        if current_state == goal_state:\n",
    "            print(\"Goal reached!\")\n",
    "            for step in path:\n",
    "                print(step)\n",
    "            return\n",
    "        for next_state, action in get_possible_moves(current_state):\n",
    "            if next_state not in visited:\n",
    "                visited.add(next_state)\n",
    "                queue.append((next_state, path + [action]))\n",
    "    print(\"No solution found.\")\n",
    "\n",
    "solve_puzzle()\n"
   ]
  }
 ],
 "metadata": {
  "kernelspec": {
   "display_name": "Python 3 (ipykernel)",
   "language": "python",
   "name": "python3"
  },
  "language_info": {
   "codemirror_mode": {
    "name": "ipython",
    "version": 3
   },
   "file_extension": ".py",
   "mimetype": "text/x-python",
   "name": "python",
   "nbconvert_exporter": "python",
   "pygments_lexer": "ipython3",
   "version": "3.12.4"
  }
 },
 "nbformat": 4,
 "nbformat_minor": 5
}
