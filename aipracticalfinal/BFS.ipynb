{
 "cells": [
  {
   "cell_type": "code",
   "execution_count": 2,
   "id": "80a028ed-69e1-45bd-9e78-c42027f91030",
   "metadata": {},
   "outputs": [
    {
     "name": "stdout",
     "output_type": "stream",
     "text": [
      "Steps:  4\n",
      "Visited:  {(0, 1, 0), (2, 1, 0), (0, 3, 0), (1, 2, 2), (0, 0, 1), (0, 2, 1), (1, 1, 3), (3, 0, 0), (2, 0, 1), (2, 1, 2), (2, 2, 1), (0, 1, 2), (3, 1, 1), (3, 2, 0), (0, 0, 3), (1, 0, 0), (1, 2, 0), (1, 3, 1), (1, 0, 2)}\n"
     ]
    }
   ],
   "source": [
    "from collections import deque\n",
    "\n",
    "def min_steps_to_gold(grid, initial_charge):\n",
    "    n = len(grid)\n",
    "    \n",
    "    # Find positions of 'G' (Gold) and 'C' (Charge)\n",
    "    gold_position = None\n",
    "    charge_position = None\n",
    "    for i in range(n):\n",
    "        for j in range(n):\n",
    "            if grid[i][j] == 'G':\n",
    "                gold_position = (i, j)\n",
    "            elif grid[i][j] == 'C':\n",
    "                charge_position = (i, j)\n",
    "    # Directions: (N, S, E, W)\n",
    "    directions = [(-1, 0), (1, 0), (0, -1), (0, 1)]\n",
    "    # BFS queue: stores (x, y, charge_left, steps)\n",
    "    queue = deque([(0, 0, initial_charge, 0)])  \n",
    "    visited = set([(0, 0, initial_charge)]) \n",
    "    while queue:\n",
    "        x, y, charge_left, steps = queue.popleft()\n",
    "        \n",
    "        # If reached gold, return steps\n",
    "        if (x, y) == gold_position:\n",
    "            return steps, visited\n",
    "        \n",
    "        # Explore all 4 directions\n",
    "        for dx, dy in directions:\n",
    "            new_x, new_y = x + dx, y + dy\n",
    "            \n",
    "            # Check if within bounds\n",
    "            if 0 <= new_x < n and 0 <= new_y < n:\n",
    "                new_charge_left = charge_left - 1\n",
    "                \n",
    "                # Recharge if we hit the charge cell\n",
    "                if (new_x, new_y) == charge_position:\n",
    "                    new_charge_left = initial_charge\n",
    "                \n",
    "                # Check if we can move with remaining charge\n",
    "                if new_charge_left >= 0 and (new_x, new_y, new_charge_left) not in visited:\n",
    "                    visited.add((new_x, new_y, new_charge_left))\n",
    "                    queue.append((new_x, new_y, new_charge_left, steps + 1))\n",
    "    \n",
    "    return -1, visited\n",
    "\n",
    "grid = [\n",
    "    ['_', '_', '_', '_'],\n",
    "    ['_', 'C', '_', '_'],\n",
    "    ['_', '_', 'G', '_'],\n",
    "    ['_', '_', '_', '_']\n",
    "]\n",
    "initial_charge = 3  # Assume starting charge\n",
    "\n",
    "\n",
    "steps, visited = min_steps_to_gold(grid, initial_charge)\n",
    "print(\"Steps: \", steps)\n",
    "print(\"Visited: \", visited)"
   ]
  }
 ],
 "metadata": {
  "kernelspec": {
   "display_name": "Python 3 (ipykernel)",
   "language": "python",
   "name": "python3"
  },
  "language_info": {
   "codemirror_mode": {
    "name": "ipython",
    "version": 3
   },
   "file_extension": ".py",
   "mimetype": "text/x-python",
   "name": "python",
   "nbconvert_exporter": "python",
   "pygments_lexer": "ipython3",
   "version": "3.12.4"
  }
 },
 "nbformat": 4,
 "nbformat_minor": 5
}
